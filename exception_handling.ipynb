{
 "cells": [
  {
   "cell_type": "markdown",
   "metadata": {},
   "source": [
    "ArthmeticError demonstrating use of try, except and finally"
   ]
  },
  {
   "cell_type": "code",
   "execution_count": 16,
   "metadata": {},
   "outputs": [
    {
     "name": "stdout",
     "output_type": "stream",
     "text": [
      "12 43\n"
     ]
    }
   ],
   "source": [
    "try:\n",
    "    #statements which can cause errors are placed here\n",
    "    f = open(\"myfile\", \"w\")\n",
    "    a, b = map(int, input().split())\n",
    "    c = a/b\n",
    "    f.write(\"value of c \"+str(c))\n",
    "except ZeroDivisionError as e:\n",
    "    #after errors are caught exceptions are handled here\n",
    "    print(e)\n",
    "    print(\"Second value cannot be zero\")\n",
    "finally:\n",
    "    # This block of statements get executed irrespective error occurs or not    \n",
    "    # if we dont close file we will get EOF error\n",
    "    f.close()"
   ]
  },
  {
   "cell_type": "markdown",
   "metadata": {},
   "source": [
    "Syntax Error and IOError"
   ]
  },
  {
   "cell_type": "code",
   "execution_count": 19,
   "metadata": {},
   "outputs": [
    {
     "name": "stdout",
     "output_type": "stream",
     "text": [
      "Enter a date2016,10, 3\n",
      "Entered date is (2016, 10, 3)\n"
     ]
    }
   ],
   "source": [
    "try:\n",
    "    date = eval(input(\"Enter a date\"))\n",
    "except SyntaxError as e:\n",
    "    print(e, \" \", \"The format of entering date is wrong\")\n",
    "else:\n",
    "    print(\"Entered date is\", date)\n",
    "    "
   ]
  },
  {
   "cell_type": "code",
   "execution_count": 25,
   "metadata": {},
   "outputs": [
    {
     "name": "stdout",
     "output_type": "stream",
     "text": [
      "Enter filenamelala\n",
      "File doesnt exist [Errno 2] No such file or directory: 'lala'\n"
     ]
    }
   ],
   "source": [
    "try:\n",
    "    filename = input(\"Enter filename\")\n",
    "    f = open(filename, \"r\")\n",
    "except IOError as e:\n",
    "    print(\"File doesnt exist\", e)\n",
    "else:\n",
    "    n = len(f.readlines())\n",
    "    print(\"Given file has \"+str(n)+ \" lines\")"
   ]
  },
  {
   "cell_type": "markdown",
   "metadata": {},
   "source": [
    "AssertError"
   ]
  },
  {
   "cell_type": "code",
   "execution_count": 29,
   "metadata": {},
   "outputs": [
    {
     "name": "stdout",
     "output_type": "stream",
     "text": [
      "34\n",
      "Condition not satisfied\n"
     ]
    }
   ],
   "source": [
    "try:\n",
    "    x = int(input())\n",
    "    assert 100 < x < 200\n",
    "    print(\"Given value fulfills condition\")\n",
    "except AssertionError:\n",
    "    print(\"Condition not satisfied\")\n",
    "        \n",
    "    "
   ]
  },
  {
   "cell_type": "markdown",
   "metadata": {},
   "source": [
    "UserDefined Exceptions"
   ]
  },
  {
   "cell_type": "code",
   "execution_count": 40,
   "metadata": {},
   "outputs": [
    {
     "name": "stdout",
     "output_type": "stream",
     "text": [
      "30000\n",
      "Not eligible for discount\n"
     ]
    }
   ],
   "source": [
    "class MyException(Exception):\n",
    "    # overiding message\n",
    "    def __init__(self, arg):\n",
    "        self.msg = arg\n",
    "        \n",
    "try:\n",
    "    x = int(input())\n",
    "    if x > 10000:\n",
    "        # raising an exception and sending a message as argument\n",
    "        raise MyException(\"Not eligible for discount\")\n",
    "except MyException as e:\n",
    "    #printing msg of exception\n",
    "    print(e)"
   ]
  },
  {
   "cell_type": "markdown",
   "metadata": {},
   "source": [
    "Logging Exceptions"
   ]
  },
  {
   "cell_type": "code",
   "execution_count": 44,
   "metadata": {},
   "outputs": [
    {
     "name": "stdout",
     "output_type": "stream",
     "text": [
      "12\n",
      "sas\n"
     ]
    }
   ],
   "source": [
    "import logging\n",
    "logging.basicConfig(filename = \"log_file.txt\", level = logging.ERROR)\n",
    "try:\n",
    "    a = int(input())\n",
    "    b = int(input())\n",
    "    c = a/b\n",
    "    \n",
    "except Exception as e:\n",
    "    logging.exception(e)\n",
    "    \n",
    "else:\n",
    "    print(\"The divided value is\", c)"
   ]
  },
  {
   "cell_type": "code",
   "execution_count": null,
   "metadata": {},
   "outputs": [],
   "source": []
  }
 ],
 "metadata": {
  "kernelspec": {
   "display_name": "Python 3",
   "language": "python",
   "name": "python3"
  },
  "language_info": {
   "codemirror_mode": {
    "name": "ipython",
    "version": 3
   },
   "file_extension": ".py",
   "mimetype": "text/x-python",
   "name": "python",
   "nbconvert_exporter": "python",
   "pygments_lexer": "ipython3",
   "version": "3.6.9"
  }
 },
 "nbformat": 4,
 "nbformat_minor": 4
}
