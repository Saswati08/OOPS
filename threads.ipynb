{
 "cells": [
  {
   "cell_type": "markdown",
   "metadata": {},
   "source": [
    "# Getting started with threads !!"
   ]
  },
  {
   "cell_type": "markdown",
   "metadata": {},
   "source": [
    "Finding the current thread name"
   ]
  },
  {
   "cell_type": "code",
   "execution_count": 3,
   "metadata": {},
   "outputs": [
    {
     "name": "stdout",
     "output_type": "stream",
     "text": [
      "MainThread\n",
      "Current thread is main thread\n"
     ]
    }
   ],
   "source": [
    "import threading\n",
    "print(threading.current_thread().getName())\n",
    "if threading.current_thread() == threading.main_thread():\n",
    "    print(\"Current thread is main thread\")"
   ]
  },
  {
   "cell_type": "markdown",
   "metadata": {},
   "source": [
    "# Creating threads"
   ]
  },
  {
   "cell_type": "markdown",
   "metadata": {},
   "source": [
    "Creating thread without using class"
   ]
  },
  {
   "cell_type": "code",
   "execution_count": 5,
   "metadata": {},
   "outputs": [
    {
     "name": "stdout",
     "output_type": "stream",
     "text": [
      "In display functionIn display function 1\n",
      " 0\n",
      "In display function In display function 3\n",
      "In display function 4\n",
      "2\n"
     ]
    }
   ],
   "source": [
    "from threading import *\n",
    "def display(val):\n",
    "    print(\"In display function\", val)\n",
    "    \n",
    "for i in range(5):\n",
    "    t = Thread(target = display, args = (i, ))\n",
    "    t.start()"
   ]
  },
  {
   "cell_type": "markdown",
   "metadata": {},
   "source": [
    "Creating thread using subclass of Thread class"
   ]
  },
  {
   "cell_type": "code",
   "execution_count": 9,
   "metadata": {},
   "outputs": [
    {
     "name": "stdout",
     "output_type": "stream",
     "text": [
      "0\n",
      "1\n",
      "2\n",
      "3\n",
      "4\n",
      "0\n",
      "1\n",
      "2\n",
      "3\n",
      "4\n"
     ]
    }
   ],
   "source": [
    "from threading import *\n",
    "class Mythread(Thread):\n",
    "    def run(self):\n",
    "        for i in range(5):\n",
    "            print(i)\n",
    "\n",
    "t = Mythread()\n",
    "t2 = Mythread()\n",
    "t.start()\n",
    "t2.start()"
   ]
  },
  {
   "cell_type": "markdown",
   "metadata": {},
   "source": [
    "Creating thread without subclass of Thread class"
   ]
  },
  {
   "cell_type": "code",
   "execution_count": 11,
   "metadata": {},
   "outputs": [
    {
     "name": "stdout",
     "output_type": "stream",
     "text": [
      "1\n",
      "t1\n",
      "11\n",
      "t3\n",
      "t2\n",
      "\n"
     ]
    }
   ],
   "source": [
    "from threading import *\n",
    "class MyClass:\n",
    "    def __init__(self, value):\n",
    "        self.i = value\n",
    "    def display(self):\n",
    "        print(self.i)\n",
    "        print(threading.current_thread().getName())\n",
    "    \n",
    "obj = MyClass(1)\n",
    "t1 = Thread(target = obj.display)\n",
    "t1.setName(\"t1\")\n",
    "t2 = Thread(target = obj.display)\n",
    "t2.setName(\"t2\")\n",
    "t3 = Thread(target = obj.display)\n",
    "t3.setName(\"t3\")\n",
    "t1.start()\n",
    "# Using join statements ensure one thread finishes execution before the second one starts \\n\",\n",
    "# t1.join()\\n\",\n",
    "t2.start()\n",
    "# t2.join()\\n\",\n",
    "t3.start()"
   ]
  },
  {
   "cell_type": "markdown",
   "metadata": {},
   "source": [
    "Single tasking using thread"
   ]
  },
  {
   "cell_type": "code",
   "execution_count": 15,
   "metadata": {},
   "outputs": [
    {
     "name": "stdout",
     "output_type": "stream",
     "text": [
      "Completing task 1\n",
      "Completing task 2\n",
      "Completing task 3\n"
     ]
    }
   ],
   "source": [
    "from threading import *\n",
    "from time import *\n",
    "class ComplexTask:\n",
    "    def execute(self):\n",
    "        self.task1()\n",
    "        self.task2()\n",
    "        self.task3()\n",
    "    def task1(self):\n",
    "        print(\"Completing task 1\")\n",
    "        sleep(5)\n",
    "    def task2(self):\n",
    "        print(\"Completing task 2\")\n",
    "        sleep(10)\n",
    "    def task3(self):\n",
    "        print(\"Completing task 3\")\n",
    "        \n",
    "obj = ComplexTask()\n",
    "t = Thread(target = obj.execute)\n",
    "t.start()"
   ]
  },
  {
   "cell_type": "markdown",
   "metadata": {},
   "source": [
    "Multitasking with threads"
   ]
  },
  {
   "cell_type": "code",
   "execution_count": 16,
   "metadata": {},
   "outputs": [
    {
     "name": "stdout",
     "output_type": "stream",
     "text": [
      "Cutting ticketFinding chair 1 \n",
      "1\n",
      "Finding chairCutting ticket 2\n",
      " 2\n",
      "Cutting ticketFinding chair 3\n",
      " 3\n",
      "Cutting ticketFinding chair 4\n",
      " 4\n"
     ]
    }
   ],
   "source": [
    "from threading import*\n",
    "from time import *\n",
    "class MovieHall:\n",
    "    def __init__(self, name):\n",
    "        self.name = name\n",
    "    def display(self):\n",
    "        for i in range(1, 5):\n",
    "            print(self.name, i)\n",
    "            sleep(1)\n",
    "            \n",
    "ob = MovieHall(\"Cutting ticket\")\n",
    "ob2 = MovieHall(\"Finding chair\")\n",
    "t1 = Thread(target = ob.display)\n",
    "t2 = Thread(target = ob2.display)\n",
    "t1.start()\n",
    "t2.start()"
   ]
  },
  {
   "cell_type": "markdown",
   "metadata": {},
   "source": [
    "Two threads working on same method of same object causing inconsistency"
   ]
  },
  {
   "cell_type": "code",
   "execution_count": 19,
   "metadata": {},
   "outputs": [
    {
     "name": "stdout",
     "output_type": "stream",
     "text": [
      "<Thread(Sas, started 139933826135808)> You are successful in reserving berth\n",
      "<Thread(Debo, started 139933834528512)> You are successful in reserving berth\n"
     ]
    }
   ],
   "source": [
    "from threading import *\n",
    "class Railway:\n",
    "    def __init__(self, vacant):\n",
    "        self.vacant  = vacant\n",
    "        \n",
    "    def reserve(self, want):\n",
    "        if self.vacant >= want:\n",
    "            print(threading.current_thread(), \"You are successful in reserving berth\")\n",
    "            # when sleep statement is executed we see in that time debo thread enters and books a berth\n",
    "            sleep(1.5)\n",
    "            self.vacant -= want\n",
    "#             sleep(1.5)\n",
    "            \n",
    "        else:\n",
    "            print(threading.current_thread(), \"Sorry there's no berth available\")\n",
    "            \n",
    "obj = Railway(1)\n",
    "t1 = Thread(target = obj.reserve, args = (1, ))\n",
    "t2 = Thread(target = obj.reserve, args = (1, ))\n",
    "t1.setName(\"Sas\")\n",
    "t2.setName(\"Debo\")\n",
    "t1.start()\n",
    "t2.start()\n",
    "# One way to stop this is sleep after changing vacant but still that does not ensure safety from this inconsistency   "
   ]
  },
  {
   "cell_type": "markdown",
   "metadata": {},
   "source": [
    "# Thread Synchronization"
   ]
  },
  {
   "cell_type": "markdown",
   "metadata": {},
   "source": [
    "Using locks"
   ]
  },
  {
   "cell_type": "code",
   "execution_count": 20,
   "metadata": {},
   "outputs": [
    {
     "name": "stdout",
     "output_type": "stream",
     "text": [
      "<Thread(Sas, started 139933834528512)> You are successful in reserving berth\n",
      "<Thread(Debo, started 139933826135808)> Sorry there's no berth available\n"
     ]
    }
   ],
   "source": [
    "from threading import *\n",
    "class Railway:\n",
    "    def __init__(self, vacant):\n",
    "        self.vacant  = vacant\n",
    "        self.l = Lock()\n",
    "        \n",
    "    def reserve(self, want):\n",
    "        self.l.acquire()\n",
    "        if self.vacant >= want:\n",
    "            print(threading.current_thread(), \"You are successful in reserving berth\")\n",
    "            # when sleep statement is executed we see in that time debo thread enters and books a berth\n",
    "            sleep(1.5)\n",
    "            self.vacant -= want\n",
    "#              sleep(1.5)\n",
    "            \n",
    "        else:\n",
    "            print(threading.current_thread(), \"Sorry there's no berth available\")\n",
    "        self.l.release()\n",
    "            \n",
    "obj = Railway(1)\n",
    "t1 = Thread(target = obj.reserve, args = (1, ))\n",
    "t2 = Thread(target = obj.reserve, args = (1, ))\n",
    "t1.setName(\"Sas\")\n",
    "t2.setName(\"Debo\")\n",
    "t1.start()\n",
    "t2.start()"
   ]
  },
  {
   "cell_type": "markdown",
   "metadata": {},
   "source": [
    "Using semaphore"
   ]
  },
  {
   "cell_type": "code",
   "execution_count": 22,
   "metadata": {},
   "outputs": [
    {
     "name": "stdout",
     "output_type": "stream",
     "text": [
      "<Thread(Sas, started 139933834528512)> You are successful in reserving berth\n",
      "<Thread(Debo, started 139933826135808)> Sorry there's no berth available\n"
     ]
    }
   ],
   "source": [
    "from threading import *\n",
    "class Railway:\n",
    "    def __init__(self, vacant):\n",
    "        self.vacant  = vacant\n",
    "        self.l = Semaphore()\n",
    "        \n",
    "    def reserve(self, want):\n",
    "        self.l.acquire()\n",
    "        if self.vacant >= want:\n",
    "            print(threading.current_thread(), \"You are successful in reserving berth\")\n",
    "            # when sleep statement is executed we see in that time debo thread enters and books a berth\n",
    "            sleep(1.5)\n",
    "            self.vacant -= want\n",
    "#              sleep(1.5)\n",
    "            \n",
    "        else:\n",
    "            print(threading.current_thread(), \"Sorry there's no berth available\")\n",
    "        self.l.release()\n",
    "            \n",
    "obj = Railway(1)\n",
    "t1 = Thread(target = obj.reserve, args = (1, ))\n",
    "t2 = Thread(target = obj.reserve, args = (1, ))\n",
    "t1.setName(\"Sas\")\n",
    "t2.setName(\"Debo\")\n",
    "t1.start()\n",
    "t2.start()\n",
    "# If you want to allow more than threads to enter you can initialise self.l = Seaphore(counter)\n",
    "# where counter is the number of threads you want to allow together"
   ]
  },
  {
   "cell_type": "markdown",
   "metadata": {},
   "source": [
    "How to prevent deadlock of threads"
   ]
  },
  {
   "cell_type": "code",
   "execution_count": 26,
   "metadata": {},
   "outputs": [
    {
     "name": "stdout",
     "output_type": "stream",
     "text": [
      "Lock 1 acquired\n",
      "Lock 2 acquired\n",
      "<Thread(Book ticket, started 139933826135808)> You are successful in reserving berth\n",
      "Lock 2 released\n",
      "Lock 1 releasedLock1 acquired\n",
      "Lock 2 acquired\n",
      "Cancelling ticket successful\n",
      "Lock 2 released\n",
      "Lock 1 released\n",
      "\n"
     ]
    }
   ],
   "source": [
    "class Railway:\n",
    "    def __init__(self, vacant):\n",
    "        self.vacant  = vacant\n",
    "        self.l1 = Lock()\n",
    "        self.l2 = Lock()\n",
    "        \n",
    "    def reserve(self, want):\n",
    "        self.l1.acquire()\n",
    "        print(\"Lock 1 acquired\")\n",
    "        self.l2.acquire()\n",
    "        print(\"Lock 2 acquired\")\n",
    "        if self.vacant >= want:\n",
    "            print(threading.current_thread(), \"You are successful in reserving berth\")\n",
    "            # when sleep statement is executed we see in that time debo thread enters and books a berth\n",
    "            sleep(1.5)\n",
    "            self.vacant -= want\n",
    "    #             sleep(1.5)\n",
    "\n",
    "        else:\n",
    "            print(threading.current_thread(), \"Sorry there's no berth available\")\n",
    "        self.l2.release()\n",
    "        print(\"Lock 2 released\")\n",
    "        self.l1.release()\n",
    "        print(\"Lock 1 released\")\n",
    "        \n",
    "    def cancel(self, delete):\n",
    "        self.l1.acquire()\n",
    "        print(\"Lock1 acquired\")\n",
    "        self.l2.acquire()\n",
    "        print(\"Lock 2 acquired\")\n",
    "        self.vacant += delete\n",
    "        print(\"Cancelling ticket successful\")\n",
    "        self.l2.release()\n",
    "        print(\"Lock 2 released\")\n",
    "        self.l1.release()\n",
    "        print(\"Lock 1 released\")\n",
    "        \n",
    "obj = Railway(1)\n",
    "t1 = Thread(target = obj.reserve, args = (1, ))\n",
    "t2 = Thread(target = obj.cancel, args = (1, ))\n",
    "t1.setName(\"Book ticket\")\n",
    "t2.setName(\"Cancel ticket\")\n",
    "t1.start()\n",
    "t2.start()\n",
    "# if lock 2 is acquired in cancel ticket first and then lock1 then deadlock may happen\""
   ]
  },
  {
   "cell_type": "markdown",
   "metadata": {},
   "source": [
    "# Communication between Threads"
   ]
  },
  {
   "cell_type": "markdown",
   "metadata": {},
   "source": [
    "Using boolean type variable"
   ]
  },
  {
   "cell_type": "code",
   "execution_count": 27,
   "metadata": {},
   "outputs": [
    {
     "name": "stdout",
     "output_type": "stream",
     "text": [
      "Production started\n",
      "[1, 2, 3, 4, 5, 6, 7, 8, 9, 10]\n",
      "Consumption started\n",
      "[1, 2, 3, 4, 5, 6, 7, 8, 9, 10]\n"
     ]
    }
   ],
   "source": [
    "class Producer:\n",
    "    def __init__(self):\n",
    "        self.producing = True\n",
    "        self.list = []\n",
    "        \n",
    "    def produce(self):\n",
    "        if self.producing:\n",
    "            print(\"Production started\")\n",
    "            sleep(2)\n",
    "            for i in range(10):\n",
    "                self.list.append(i + 1)\n",
    "                \n",
    "        self.producing = False\n",
    "        \n",
    "class Consumer:\n",
    "    def __init__(self, p):\n",
    "        self.prod = p\n",
    "        \n",
    "    def consume(self):\n",
    "        # if following lines are not written consumer starts consuming even before producer has started producing \\n\",\n",
    "        # and prints empty list\\n\",\n",
    "        while self.prod.producing :\n",
    "            sleep(0.1)\n",
    "        print(\"Consumption started\")\n",
    "        print(self.prod.list)\n",
    "        \n",
    "prod = Producer()\n",
    "cons = Consumer(prod)\n",
    "t1 = Thread(target = prod.produce)\n",
    "t2 = Thread(target = cons.consume)\n",
    "t1.start()\n",
    "t2.start()\n",
    "t1.join()\n",
    "print(prod.list)"
   ]
  },
  {
   "cell_type": "markdown",
   "metadata": {},
   "source": [
    "Using notify and wait methods"
   ]
  },
  {
   "cell_type": "code",
   "execution_count": 28,
   "metadata": {},
   "outputs": [
    {
     "name": "stdout",
     "output_type": "stream",
     "text": [
      "Production started\n",
      "Consumption started\n",
      "[1, 2, 3, 4, 5, 6, 7, 8, 9, 10]\n"
     ]
    }
   ],
   "source": [
    "class Producer:\n",
    "    def __init__(self):\n",
    "        self.cv = Condition()\n",
    "        self.list = []\n",
    "        \n",
    "    def produce(self):\n",
    "        self.cv.acquire()\n",
    "        print(\"Production started\")\n",
    "        sleep(2)\n",
    "        for i in range(10):\n",
    "            self.list.append(i + 1)\n",
    "\n",
    "        self.cv.notify()\n",
    "        self.cv.release()\n",
    "        \n",
    "class Consumer:\n",
    "    def __init__(self, p):\n",
    "        self.prod = p\n",
    "        \n",
    "    def consume(self):\n",
    "        self.prod.cv.acquire()\n",
    "        print(\"Consumption started\")\n",
    "        print(self.prod.list)\n",
    "        self.prod.cv.notify()\n",
    "        self.prod.cv.release()\n",
    "\n",
    "prod = Producer()\n",
    "cons = Consumer(prod)\n",
    "t1 = Thread(target = prod.produce)\n",
    "t2 = Thread(target = cons.consume)\n",
    "t1.start()\n",
    "t2.start()"
   ]
  },
  {
   "cell_type": "markdown",
   "metadata": {},
   "source": [
    "Using queue"
   ]
  },
  {
   "cell_type": "code",
   "execution_count": 30,
   "metadata": {},
   "outputs": [
    {
     "name": "stdout",
     "output_type": "stream",
     "text": [
      "Production started\n",
      "Consumption started\n",
      "1\n",
      "2\n",
      "3\n",
      "4\n",
      "5\n",
      "6\n",
      "7\n",
      "8\n",
      "9\n",
      "10\n"
     ]
    }
   ],
   "source": [
    "from queue import *\n",
    "class Producer:\n",
    "    def __init__(self):\n",
    "        \n",
    "        self.queue = Queue()\n",
    "        \n",
    "    def produce(self):\n",
    "        \n",
    "        print(\"Production started\")\n",
    "        \n",
    "        for i in range(10):\n",
    "            self.queue.put(i + 1)\n",
    "            sleep(1)\n",
    "        \n",
    "class Consumer:\n",
    "    def __init__(self, p):\n",
    "        self.prod = p\n",
    "        \n",
    "    def consume(self):\n",
    "        print(\"Consumption started\")\n",
    "        for i in range(10):\n",
    "            print(self.prod.queue.get())\n",
    "        \n",
    "prod = Producer()\n",
    "cons = Consumer(prod)\n",
    "t1 = Thread(target = prod.produce)\n",
    "t2 = Thread(target = cons.consume)\n",
    "t1.start()\n",
    "t2.start()"
   ]
  },
  {
   "cell_type": "code",
   "execution_count": null,
   "metadata": {},
   "outputs": [],
   "source": []
  }
 ],
 "metadata": {
  "kernelspec": {
   "display_name": "Python 3",
   "language": "python",
   "name": "python3"
  },
  "language_info": {
   "codemirror_mode": {
    "name": "ipython",
    "version": 3
   },
   "file_extension": ".py",
   "mimetype": "text/x-python",
   "name": "python",
   "nbconvert_exporter": "python",
   "pygments_lexer": "ipython3",
   "version": "3.6.9"
  }
 },
 "nbformat": 4,
 "nbformat_minor": 4
}
