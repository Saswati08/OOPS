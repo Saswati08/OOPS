{
 "cells": [
  {
   "cell_type": "markdown",
   "metadata": {},
   "source": [
    "# Getting started with class and objects "
   ]
  },
  {
   "cell_type": "markdown",
   "metadata": {},
   "source": [
    "Simple class with 1 function"
   ]
  },
  {
   "cell_type": "code",
   "execution_count": 5,
   "metadata": {},
   "outputs": [
    {
     "name": "stdout",
     "output_type": "stream",
     "text": [
      "5\n"
     ]
    }
   ],
   "source": [
    "class Calculator:\n",
    "    def sum(self, a, b):\n",
    "        return a + b\n",
    "\n",
    "c = Calculator()\n",
    "print(c.sum(2, 3))\n",
    "    "
   ]
  },
  {
   "cell_type": "markdown",
   "metadata": {},
   "source": [
    "  \\__init\\__ method"
   ]
  },
  {
   "cell_type": "code",
   "execution_count": 9,
   "metadata": {},
   "outputs": [
    {
     "name": "stdout",
     "output_type": "stream",
     "text": [
      "Hi you are using Sas's calci\n"
     ]
    }
   ],
   "source": [
    "class Calculator:\n",
    "    def __init__(self, name):\n",
    "        self.name = name\n",
    "    def introduction(self):\n",
    "        print(\"Hi you are using \" + self.name)\n",
    "\n",
    "c = Calculator('Sas\\'s calci')\n",
    "c.introduction()"
   ]
  },
  {
   "cell_type": "markdown",
   "metadata": {},
   "source": [
    "Class and Instance Variables (Or attributes)\n",
    "In Python, instance variables are variables whose value is assigned inside a constructor or method with self.\n",
    "\n"
   ]
  },
  {
   "cell_type": "code",
   "execution_count": 32,
   "metadata": {},
   "outputs": [
    {
     "name": "stdout",
     "output_type": "stream",
     "text": [
      "12\n",
      "10\n"
     ]
    }
   ],
   "source": [
    "class A():\n",
    "    def __init__(self, x):\n",
    "        self.init_var = x\n",
    "    def normal_function(self, y):\n",
    "        self.var = y\n",
    "\n",
    "obj = A(12)\n",
    "obj.normal_function(10)\n",
    "print(obj.init_var)\n",
    "print(obj.var)        "
   ]
  },
  {
   "cell_type": "markdown",
   "metadata": {},
   "source": [
    "Class variables and Class methods"
   ]
  },
  {
   "cell_type": "code",
   "execution_count": 6,
   "metadata": {},
   "outputs": [
    {
     "name": "stdout",
     "output_type": "stream",
     "text": [
      "11\n",
      "11\n"
     ]
    }
   ],
   "source": [
    "# In following program class variable, class_var is changed using classmethod, class_function so changes done by\n",
    "# obj1 is reflected on obj2\n",
    "class A:\n",
    "    class_var = 10\n",
    "    def __init__(self):\n",
    "        pass\n",
    "        \n",
    "    @classmethod\n",
    "    def class_function(cls, y):\n",
    "        cls.class_var += y \n",
    "\n",
    "obj1 = A()\n",
    "obj1.class_function(1)\n",
    "print(obj1.class_var)\n",
    "obj2 = A()\n",
    "print(obj2.class_var)"
   ]
  },
  {
   "cell_type": "markdown",
   "metadata": {},
   "source": [
    "Usage of static method"
   ]
  },
  {
   "cell_type": "code",
   "execution_count": 10,
   "metadata": {},
   "outputs": [
    {
     "name": "stdout",
     "output_type": "stream",
     "text": [
      "No of objects created 3\n",
      "No of objects created 3\n"
     ]
    }
   ],
   "source": [
    "# static method using class variable, doesnt take class as argument does not modify class state like classmethod\n",
    "class A:\n",
    "    n = 0\n",
    "    def __init__(self):\n",
    "        A.n = A.n + 1\n",
    "        \n",
    "    @staticmethod\n",
    "    def static_function():\n",
    "         print(\"No of objects created\", A.n)\n",
    "            \n",
    "obj1 = A()\n",
    "obj2 = A()\n",
    "obj3 = A()\n",
    "A.static_function()\n",
    "obj1.static_function()"
   ]
  },
  {
   "cell_type": "markdown",
   "metadata": {},
   "source": [
    "Namespaces"
   ]
  },
  {
   "cell_type": "code",
   "execution_count": 27,
   "metadata": {},
   "outputs": [
    {
     "name": "stdout",
     "output_type": "stream",
     "text": [
      "20 20\n",
      "90 20\n"
     ]
    }
   ],
   "source": [
    "# Following program illustrates different namespace for class and instances\n",
    "class A:\n",
    "    class_var = 10\n",
    "    def __init__(self):\n",
    "        pass\n",
    "        \n",
    "    @classmethod\n",
    "    def class_function(cls, y):\n",
    "        cls.class_var += y \n",
    "obj1 = A()\n",
    "obj2 = A()\n",
    "obj1.class_function(10)\n",
    "print(obj1.class_var, obj2.class_var)\n",
    "obj1.class_var = 90\n",
    "print(obj1.class_var, obj2.class_var)\n",
    "# in first print statement we see when classmethod changes class_var value it is reflected in obj.class_var too\n",
    "# But when value changed through the instance it is in instance namespace and change not reflected in obj2.class_var"
   ]
  },
  {
   "cell_type": "markdown",
   "metadata": {},
   "source": [
    "Passing reference of one class to another"
   ]
  },
  {
   "cell_type": "code",
   "execution_count": 15,
   "metadata": {},
   "outputs": [
    {
     "name": "stdout",
     "output_type": "stream",
     "text": [
      "Printing\n",
      "Name Saswati\n",
      "Phone 9999999999\n",
      "Salary 0\n"
     ]
    }
   ],
   "source": [
    "class A:\n",
    "    def __init__(self, name, phone, salary):\n",
    "        self.name = name\n",
    "        self.phone = phone\n",
    "        self.salary = salary\n",
    "        \n",
    "class B:\n",
    "    n = 0\n",
    "    @staticmethod\n",
    "    def display(obj):\n",
    "        print(\"Printing\")\n",
    "        print(\"Name\", obj.name)\n",
    "        print(\"Phone\", obj.phone)\n",
    "        print(\"Salary\", obj.salary)\n",
    "        \n",
    "o = A(\"Saswati\", \"9999999999\", \"0\")\n",
    "\n",
    "B.display(o)\n"
   ]
  },
  {
   "cell_type": "markdown",
   "metadata": {},
   "source": [
    "Inner classes"
   ]
  },
  {
   "cell_type": "code",
   "execution_count": 23,
   "metadata": {},
   "outputs": [
    {
     "name": "stdout",
     "output_type": "stream",
     "text": [
      "You are in an inner class!!\n"
     ]
    }
   ],
   "source": [
    "class A:\n",
    "    def __init__(self):\n",
    "        self.ic = self.Inner_class()\n",
    "        \n",
    "    class Inner_class:\n",
    "        def display(self):\n",
    "            print(\"You are in an inner class!!\")\n",
    "                \n",
    "obj = A()\n",
    "obj.ic.display()\n"
   ]
  },
  {
   "cell_type": "markdown",
   "metadata": {},
   "source": [
    "# Saving Memory when creating a large number of instances"
   ]
  },
  {
   "cell_type": "markdown",
   "metadata": {},
   "source": [
    "Your program creates a large number (e.g., millions) of instances and uses a large\n",
    "amount of memory."
   ]
  },
  {
   "cell_type": "code",
   "execution_count": 3,
   "metadata": {},
   "outputs": [],
   "source": [
    "# For classes that primarily serve as simple data structures, you can often greatly reduce\n",
    "# the memory footprint of instances by adding the __slots__ attribute to the class defi‐\n",
    "# nition. For example:\n",
    "class Date:\n",
    "    __slots__ = ['year', 'month', 'day']\n",
    "    def __init__(self, year, month, day):\n",
    "        self.year = year\n",
    "        self.month = month\n",
    "        self.day = day\n",
    "# When you define __slots__ , Python uses a much more compact internal representation\n",
    "# for instances. Instead of each instance consisting of a dictionary, instances are built\n",
    "# around a small fixed-sized array, much like a tuple or list"
   ]
  },
  {
   "cell_type": "markdown",
   "metadata": {},
   "source": [
    "Empty class"
   ]
  },
  {
   "cell_type": "code",
   "execution_count": 24,
   "metadata": {},
   "outputs": [],
   "source": [
    "class Empty():\n",
    "    pass"
   ]
  },
  {
   "cell_type": "markdown",
   "metadata": {},
   "source": [
    "# Encapsulation"
   ]
  },
  {
   "cell_type": "markdown",
   "metadata": {},
   "source": [
    "Hidden attributes start with double __ \n",
    "\n",
    "Encapsulation can be performed in this way"
   ]
  },
  {
   "cell_type": "code",
   "execution_count": 22,
   "metadata": {},
   "outputs": [
    {
     "name": "stdout",
     "output_type": "stream",
     "text": [
      "30\n"
     ]
    },
    {
     "ename": "AttributeError",
     "evalue": "'a' object has no attribute '__hidden_attribute'",
     "output_type": "error",
     "traceback": [
      "\u001b[0;31m---------------------------------------------------------------------------\u001b[0m",
      "\u001b[0;31mAttributeError\u001b[0m                            Traceback (most recent call last)",
      "\u001b[0;32m<ipython-input-22-aded7ed47ea5>\u001b[0m in \u001b[0;36m<module>\u001b[0;34m\u001b[0m\n\u001b[1;32m      9\u001b[0m \u001b[0mobj\u001b[0m \u001b[0;34m=\u001b[0m \u001b[0ma\u001b[0m\u001b[0;34m(\u001b[0m\u001b[0;34m)\u001b[0m\u001b[0;34m\u001b[0m\u001b[0m\n\u001b[1;32m     10\u001b[0m \u001b[0mprint\u001b[0m\u001b[0;34m(\u001b[0m\u001b[0mobj\u001b[0m\u001b[0;34m.\u001b[0m\u001b[0madd\u001b[0m\u001b[0;34m(\u001b[0m\u001b[0;36m20\u001b[0m\u001b[0;34m)\u001b[0m\u001b[0;34m)\u001b[0m\u001b[0;34m\u001b[0m\u001b[0m\n\u001b[0;32m---> 11\u001b[0;31m \u001b[0mprint\u001b[0m\u001b[0;34m(\u001b[0m\u001b[0mobj\u001b[0m\u001b[0;34m.\u001b[0m\u001b[0m__hidden_attribute\u001b[0m\u001b[0;34m)\u001b[0m\u001b[0;34m\u001b[0m\u001b[0m\n\u001b[0m",
      "\u001b[0;31mAttributeError\u001b[0m: 'a' object has no attribute '__hidden_attribute'"
     ]
    }
   ],
   "source": [
    "class a():\n",
    "  \n",
    "        \n",
    "    __hidden_attribute = 10\n",
    "        \n",
    "    def add(self, a):\n",
    "        return(self.__hidden_attribute + a)\n",
    "\n",
    "obj = a()\n",
    "print(obj.add(20))\n",
    "#Can use it in functions\n",
    "print(obj.__hidden_attribute)\n",
    "#Cant access directly"
   ]
  },
  {
   "cell_type": "markdown",
   "metadata": {},
   "source": [
    "Access hidden members"
   ]
  },
  {
   "cell_type": "code",
   "execution_count": 37,
   "metadata": {},
   "outputs": [
    {
     "name": "stdout",
     "output_type": "stream",
     "text": [
      "200\n"
     ]
    }
   ],
   "source": [
    "class Trick:\n",
    "  \n",
    "        \n",
    "    __hiddenAttribute = 200  \n",
    "    \n",
    "\n",
    "obj = Trick()\n",
    "\n",
    "print(obj._Trick__hiddenAttribute)"
   ]
  },
  {
   "cell_type": "markdown",
   "metadata": {},
   "source": [
    "# Inheritance in Python"
   ]
  },
  {
   "cell_type": "markdown",
   "metadata": {},
   "source": [
    "Simple inheritance\n",
    "\n",
    "Overiding functions"
   ]
  },
  {
   "cell_type": "code",
   "execution_count": 70,
   "metadata": {},
   "outputs": [
    {
     "name": "stdout",
     "output_type": "stream",
     "text": [
      "30\n",
      "20\n",
      "Hii but you are in Bigger Calc\n"
     ]
    }
   ],
   "source": [
    "class SmallCalc():\n",
    "    def add(self, a, b):\n",
    "        return a + b\n",
    "    def say_hi(self):\n",
    "        print(\"Hii\")\n",
    "        \n",
    "class BiggerCalc(SmallCalc):\n",
    "    def sub(self, a, b):\n",
    "        return a - b\n",
    "    def say_hi(self):\n",
    "        print(\"Hii but you are in Bigger Calc\")\n",
    "    \n",
    "obj = BiggerCalc()\n",
    "print(obj.add(10, 20))\n",
    "print(obj.sub(220, 200))\n",
    "obj.say_hi()"
   ]
  },
  {
   "cell_type": "markdown",
   "metadata": {},
   "source": [
    "Check issubclass() and isinstance()\n",
    "\n",
    "BiggerCalc is a subclass of SmallCalc not the other way round\n",
    "\n",
    "Also obj is an instance of SmallCalc too\n",
    "But obj2 is not an instance of BiggerCalc"
   ]
  },
  {
   "cell_type": "code",
   "execution_count": 71,
   "metadata": {},
   "outputs": [
    {
     "name": "stdout",
     "output_type": "stream",
     "text": [
      "False\n",
      "True\n",
      "True\n",
      "False\n"
     ]
    }
   ],
   "source": [
    "obj2 = SmallCalc()\n",
    "print(issubclass(SmallCalc, BiggerCalc))\n",
    "print(issubclass(BiggerCalc, SmallCalc))\n",
    "print(isinstance(obj, SmallCalc))\n",
    "print(isinstance(obj2, BiggerCalc))"
   ]
  },
  {
   "cell_type": "markdown",
   "metadata": {},
   "source": [
    "Multiple Inheritance"
   ]
  },
  {
   "cell_type": "code",
   "execution_count": 17,
   "metadata": {},
   "outputs": [
    {
     "name": "stdout",
     "output_type": "stream",
     "text": [
      "In SmallCalc1\n",
      "In SmallCalc2\n",
      "In BiggerCalc\n",
      "30\n",
      "200\n",
      "-10\n"
     ]
    }
   ],
   "source": [
    "class SmallCalc1():\n",
    "    def __init__(self):\n",
    "        print(\"In SmallCalc1\")\n",
    "    def add(self, a, b):\n",
    "        return a + b\n",
    "    def say_hi(self):\n",
    "        print(\"Hii\")\n",
    "        \n",
    "class SmallCalc2():\n",
    "    def __init__(self):\n",
    "        print(\"In SmallCalc2\")\n",
    "    def mul(self, a, b):\n",
    "        return a * b\n",
    "    def say_hi(self):\n",
    "        print(\"Hii\")     \n",
    "        \n",
    "class BiggerCalc(SmallCalc1, SmallCalc2):\n",
    "    def __init__(self):\n",
    "        SmallCalc1.__init__(self) \n",
    "        SmallCalc2.__init__(self)\n",
    "        print(\"In BiggerCalc\")\n",
    "    def sub(self, a, b):\n",
    "        return a - b\n",
    "    def say_hi(self):\n",
    "        print(\"Hii but you are in Bigger Calc\")\n",
    "        \n",
    "obj = BiggerCalc()\n",
    "print(obj.add(10, 20))\n",
    "print(obj.mul(10, 20))\n",
    "print(obj.sub(10, 20))\n",
    "    "
   ]
  },
  {
   "cell_type": "markdown",
   "metadata": {},
   "source": [
    "# Using super()"
   ]
  },
  {
   "cell_type": "code",
   "execution_count": 16,
   "metadata": {},
   "outputs": [
    {
     "name": "stdout",
     "output_type": "stream",
     "text": [
      "In SmallCalc\n",
      "In BiggerCalc\n",
      "30\n",
      "-10\n",
      "11\n"
     ]
    }
   ],
   "source": [
    "class SmallCalc():\n",
    "    def __init__(self):\n",
    "        print(\"In SmallCalc\")\n",
    "        \n",
    "    def add(self, a, b):\n",
    "        return a + b\n",
    "    \n",
    "        \n",
    "class BiggerCalc(SmallCalc):\n",
    "    def __init__(self):\n",
    "        # Using super to call base class init\n",
    "        super().__init__() \n",
    "        \n",
    "        print(\"In BiggerCalc\")\n",
    "    def sub(self, a, b):\n",
    "        return a - b\n",
    "    def add(self, a):\n",
    "        return a + 1\n",
    "    def use_modules(self, a, b):\n",
    "        # Using super to call function from base class and not the overidden function\n",
    "        print(super().add(a, b))\n",
    "        print(self.sub(a, b))\n",
    "        print(self.add(a))\n",
    "        \n",
    "obj = BiggerCalc()\n",
    "obj.use_modules(10, 20)"
   ]
  },
  {
   "cell_type": "markdown",
   "metadata": {},
   "source": [
    "# Using super() explaining MRO in python"
   ]
  },
  {
   "cell_type": "code",
   "execution_count": 16,
   "metadata": {},
   "outputs": [
    {
     "name": "stdout",
     "output_type": "stream",
     "text": [
      "You are in A\n",
      "You are in B\n"
     ]
    }
   ],
   "source": [
    "class A:\n",
    "    def say_hi(self):\n",
    "        print(\"You are in A\")\n",
    "        super().say_hi()\n",
    "class B:\n",
    "    def say_hi(self):\n",
    "        print(\"You are in B\")\n",
    "#         super().say_hi()\n",
    "class C(A, B):\n",
    "    pass\n",
    "\n",
    "obj = C()\n",
    "obj.say_hi()"
   ]
  },
  {
   "cell_type": "code",
   "execution_count": 20,
   "metadata": {},
   "outputs": [
    {
     "data": {
      "text/plain": [
       "(__main__.C, __main__.A, __main__.B, object)"
      ]
     },
     "execution_count": 20,
     "metadata": {},
     "output_type": "execute_result"
    }
   ],
   "source": [
    "# Here you see that the use of super().say_hi() in class A has, in fact, called the say_hi()\n",
    "# method in class B—a class that is completely unrelated to A! This is all explained by the\n",
    "C.__mro__\n"
   ]
  },
  {
   "cell_type": "markdown",
   "metadata": {},
   "source": [
    "Using super for Multilevel Inheritance\n",
    "\n",
    "super() calls the immediate super class member"
   ]
  },
  {
   "cell_type": "code",
   "execution_count": 15,
   "metadata": {},
   "outputs": [
    {
     "name": "stdout",
     "output_type": "stream",
     "text": [
      "In SmallCalc1\n",
      "In SmallCalc2\n",
      "In BiggerCalc\n",
      "Hii you are in SmallCalc2\n",
      "Hii but you are in BiggerCalc\n"
     ]
    }
   ],
   "source": [
    "class SmallCalc1():\n",
    "    def __init__(self):\n",
    "        print(\"In SmallCalc1\")\n",
    "    def add(self, a, b):\n",
    "        return a + b\n",
    "    def say_hi(self):\n",
    "        print(\"Hii\")\n",
    "        \n",
    "class SmallCalc2(SmallCalc1):\n",
    "    def __init__(self):\n",
    "        print(\"In SmallCalc2\")\n",
    "    def mul(self, a, b):\n",
    "        return a * b\n",
    "    def say_hi(self):\n",
    "        print(\"Hii you are in SmallCalc2\")     \n",
    "        \n",
    "class BiggerCalc(SmallCalc2):\n",
    "    def __init__(self):\n",
    "        SmallCalc1.__init__(self) \n",
    "        SmallCalc2.__init__(self)\n",
    "        print(\"In BiggerCalc\")\n",
    "    def sub(self, a, b):\n",
    "        return a - b\n",
    "    def say_hi(self):\n",
    "        super().say_hi()\n",
    "        print(\"Hii but you are in BiggerCalc\")\n",
    "        \n",
    "obj = BiggerCalc()\n",
    "obj.say_hi()\n"
   ]
  },
  {
   "cell_type": "markdown",
   "metadata": {},
   "source": [
    "Hierarchial Inheritance"
   ]
  },
  {
   "cell_type": "code",
   "execution_count": 75,
   "metadata": {},
   "outputs": [
    {
     "name": "stdout",
     "output_type": "stream",
     "text": [
      "30\n",
      "30\n"
     ]
    }
   ],
   "source": [
    "class SmallCalc():\n",
    "    def add(self, a, b):\n",
    "        return a + b\n",
    "    \n",
    "class BiggerCalc1(SmallCalc):\n",
    "    def sub(self, a, b):\n",
    "        return a - b\n",
    "\n",
    "class BiggerCalc2(SmallCalc):\n",
    "    def mul(self, a, b):\n",
    "        return a * b\n",
    "\n",
    "obj1 = BiggerCalc1()\n",
    "print(obj1.add(10, 20))\n",
    "obj2 = BiggerCalc2()\n",
    "print(obj2.add(10, 20))"
   ]
  },
  {
   "cell_type": "markdown",
   "metadata": {},
   "source": [
    "Hybrid inheritance and diamond problem"
   ]
  },
  {
   "cell_type": "code",
   "execution_count": 84,
   "metadata": {},
   "outputs": [
    {
     "name": "stdout",
     "output_type": "stream",
     "text": [
      "30\n",
      "-10\n",
      "200\n",
      "BiggerCalc1\n"
     ]
    }
   ],
   "source": [
    "class SmallCalc():\n",
    "    def add(self, a, b):\n",
    "        return a + b\n",
    "    \n",
    "class BiggerCalc1(SmallCalc):\n",
    "    def sub(self, a, b):\n",
    "        return a - b\n",
    "    def say_hi(self):\n",
    "        print(\"BiggerCalc1\")\n",
    "    \n",
    "\n",
    "class BiggerCalc2(SmallCalc):\n",
    "    def mul(self, a, b):\n",
    "        return a * b\n",
    "    def say_hi(self):\n",
    "        print(\"BiggerCalc2\")\n",
    "\n",
    "class BiggestCalc(BiggerCalc1, BiggerCalc2):\n",
    "    pass\n",
    "\n",
    "obj = BiggestCalc()\n",
    "print(obj.add(10, 20))\n",
    "print(obj.sub(10, 20))\n",
    "print(obj.mul(10, 20))\n",
    "obj.say_hi()\n",
    "# if in line 18 class BiggestCalc(BiggerCalc2, BiggerCalc1): is written then say_hi of BiggerCalc2 would have been called"
   ]
  },
  {
   "cell_type": "markdown",
   "metadata": {},
   "source": [
    "Inheritance in python inner class"
   ]
  },
  {
   "cell_type": "code",
   "execution_count": 21,
   "metadata": {},
   "outputs": [
    {
     "name": "stdout",
     "output_type": "stream",
     "text": [
      "In SmallCalc\n",
      "In BiggerCalc\n",
      "Hii you are in Small Calc\n",
      "Hii but you are in Bigger Calc\n"
     ]
    }
   ],
   "source": [
    "class SmallCalc:\n",
    "    def __init__(self):\n",
    "        self.db = self.Inner()\n",
    "        print(\"In SmallCalc\")\n",
    "        \n",
    "    def mul(self, a, b):\n",
    "        return a * b\n",
    "    \n",
    "    class Inner:\n",
    "        def say_hi(self):\n",
    "            print(\"Hii you are in Small Calc\")     \n",
    "        \n",
    "class BiggerCalc(SmallCalc):\n",
    "    def __init__(self):\n",
    "        super().__init__() \n",
    "#         print(self.db)\n",
    "#         print(\"hhiiii\")\n",
    "        \n",
    "        print(\"In BiggerCalc\")\n",
    "    def sub(self, a, b):\n",
    "        return a - b\n",
    "    \n",
    "    class Inner(SmallCalc.Inner):\n",
    "        def say_hi2(self):\n",
    "            print(\"Hii but you are in Bigger Calc\")\n",
    "obj1 = BiggerCalc()\n",
    "obj = obj1.db\n",
    "obj.say_hi()\n",
    "obj.say_hi2()\n",
    "#A subclass inherits it's parent class' variables and methods, an inner class doesn't.\n",
    "#That is why in line 23 i have to explicitly inherit the inner class if I dont do so i cannot access say_hi function in Inner class of SmallCalc"
   ]
  },
  {
   "cell_type": "markdown",
   "metadata": {},
   "source": [
    "# Abstraction"
   ]
  },
  {
   "cell_type": "markdown",
   "metadata": {},
   "source": [
    "Abstraction hides complex functionalities from user and gives only what is needed to the user"
   ]
  },
  {
   "cell_type": "code",
   "execution_count": 43,
   "metadata": {},
   "outputs": [
    {
     "name": "stdout",
     "output_type": "stream",
     "text": [
      "Opening tank\n",
      "Manual steering\n",
      "Hydraulic brakes\n"
     ]
    }
   ],
   "source": [
    "from abc import *\n",
    "class Car:\n",
    "    def __init__(self):\n",
    "        pass\n",
    "        \n",
    "    def openTank(self):\n",
    "        print(\"Opening tank\")\n",
    "    \n",
    "    @abstractmethod\n",
    "    def steering(self):\n",
    "        pass\n",
    "    @abstractmethod\n",
    "    def brakes(self):\n",
    "        pass\n",
    "    \n",
    "class Maruti(Car):\n",
    "    def steering(self):\n",
    "        print(\"Manual steering\")\n",
    "    \n",
    "    def brakes(self):\n",
    "        print(\"Hydraulic brakes\")\n",
    "        \n",
    "obj1 = Maruti()\n",
    "obj1.openTank()\n",
    "obj1.steering()\n",
    "obj1.brakes()\n",
    "    \n",
    "        "
   ]
  },
  {
   "cell_type": "markdown",
   "metadata": {},
   "source": [
    "# Polymorphism"
   ]
  },
  {
   "cell_type": "markdown",
   "metadata": {},
   "source": [
    "calling of same named function can perform different task in different scenarios"
   ]
  },
  {
   "cell_type": "code",
   "execution_count": 35,
   "metadata": {},
   "outputs": [
    {
     "name": "stdout",
     "output_type": "stream",
     "text": [
      "Quack Quack\n",
      "Hey There!!\n"
     ]
    }
   ],
   "source": [
    "class Duck:\n",
    "    def talk(self):\n",
    "        print(\"Quack Quack\")\n",
    "class Human:\n",
    "    def talk(self):\n",
    "        print(\"Hey There!!\")\n",
    "        \n",
    "def cal_talk(obj):\n",
    "    obj.talk()\n",
    "\n",
    "d = Duck()\n",
    "h = Human()\n",
    "cal_talk(d)\n",
    "cal_talk(h)"
   ]
  },
  {
   "cell_type": "markdown",
   "metadata": {},
   "source": [
    "Operator Overloading"
   ]
  },
  {
   "cell_type": "code",
   "execution_count": 37,
   "metadata": {},
   "outputs": [
    {
     "name": "stdout",
     "output_type": "stream",
     "text": [
      "30\n",
      "BabaYaga\n",
      "30\n"
     ]
    }
   ],
   "source": [
    "class SmallCalc:\n",
    "    def __init__(self, n):\n",
    "        self.n = n\n",
    "       \n",
    "    # overriding __add__ method to enable adding of two objects\n",
    "    # adding of two objects is defined as adding its instance members\n",
    "    def __add__(self, obj2):\n",
    "        return self.n + obj2.n\n",
    "    \n",
    "obj1 = SmallCalc(10)\n",
    "obj2 = SmallCalc(20)\n",
    "print(obj1 + obj2)\n",
    "print(\"Baba\" + \"Yaga\")\n",
    "print(10 + 20)"
   ]
  },
  {
   "cell_type": "markdown",
   "metadata": {},
   "source": [
    "Method Overloading"
   ]
  },
  {
   "cell_type": "code",
   "execution_count": 39,
   "metadata": {},
   "outputs": [
    {
     "name": "stdout",
     "output_type": "stream",
     "text": [
      "60\n",
      "300\n"
     ]
    }
   ],
   "source": [
    "# Python doesnt provide method overloading by the use multiple methods of same name\n",
    "# instead we have to customise our functions in such a way that they behave differently at different times\n",
    "class SmallCalc:\n",
    "    def __init__(self):\n",
    "        pass\n",
    "       \n",
    "        \n",
    "    def add(self, a = None, b = None, c = None):\n",
    "        if c == None:\n",
    "            return a + b\n",
    "        if c != None:\n",
    "            return a + b + c\n",
    "        \n",
    "obj = SmallCalc()\n",
    "print(obj.add(10, 20, 30))\n",
    "print(obj.add(100, 200))\n",
    "    "
   ]
  },
  {
   "cell_type": "markdown",
   "metadata": {},
   "source": [
    "# Creating Managed Properties"
   ]
  },
  {
   "cell_type": "markdown",
   "metadata": {},
   "source": [
    "If we want to check the type of an attribute and allow only string type to be set we can use below example, deleting of such an attribute is stopped using property"
   ]
  },
  {
   "cell_type": "code",
   "execution_count": 9,
   "metadata": {},
   "outputs": [
    {
     "data": {
      "text/plain": [
       "'Saswati'"
      ]
     },
     "execution_count": 9,
     "metadata": {},
     "output_type": "execute_result"
    }
   ],
   "source": [
    "class Person:\n",
    "    def __init__(self, first_name):\n",
    "        self.first_name = first_name\n",
    "    # Getter function\n",
    "    @property\n",
    "    def first_name(self):\n",
    "        return self._first_name\n",
    "    # Setter function\n",
    "    @first_name.setter\n",
    "    def first_name(self, value):\n",
    "        if not isinstance(value, str):\n",
    "            raise TypeError('Expected a string')\n",
    "        self._first_name = value\n",
    "    # Deleter function (optional)\n",
    "    @first_name.deleter\n",
    "    def first_name(self):\n",
    "        raise AttributeError(\"Can't delete attribute\")\n",
    "    \n",
    "a = Person('Saswati')\n",
    "a.first_name"
   ]
  },
  {
   "cell_type": "code",
   "execution_count": 10,
   "metadata": {},
   "outputs": [
    {
     "ename": "TypeError",
     "evalue": "Expected a string",
     "output_type": "error",
     "traceback": [
      "\u001b[0;31m---------------------------------------------------------------------------\u001b[0m",
      "\u001b[0;31mTypeError\u001b[0m                                 Traceback (most recent call last)",
      "\u001b[0;32m<ipython-input-10-874d522a1bba>\u001b[0m in \u001b[0;36m<module>\u001b[0;34m\u001b[0m\n\u001b[0;32m----> 1\u001b[0;31m \u001b[0ma\u001b[0m \u001b[0;34m=\u001b[0m \u001b[0mPerson\u001b[0m\u001b[0;34m(\u001b[0m\u001b[0;36m67\u001b[0m\u001b[0;34m)\u001b[0m\u001b[0;34m\u001b[0m\u001b[0m\n\u001b[0m\u001b[1;32m      2\u001b[0m \u001b[0ma\u001b[0m\u001b[0;34m.\u001b[0m\u001b[0mfirst_name\u001b[0m\u001b[0;34m\u001b[0m\u001b[0m\n",
      "\u001b[0;32m<ipython-input-9-93312628555c>\u001b[0m in \u001b[0;36m__init__\u001b[0;34m(self, first_name)\u001b[0m\n\u001b[1;32m      1\u001b[0m \u001b[0;32mclass\u001b[0m \u001b[0mPerson\u001b[0m\u001b[0;34m:\u001b[0m\u001b[0;34m\u001b[0m\u001b[0m\n\u001b[1;32m      2\u001b[0m     \u001b[0;32mdef\u001b[0m \u001b[0m__init__\u001b[0m\u001b[0;34m(\u001b[0m\u001b[0mself\u001b[0m\u001b[0;34m,\u001b[0m \u001b[0mfirst_name\u001b[0m\u001b[0;34m)\u001b[0m\u001b[0;34m:\u001b[0m\u001b[0;34m\u001b[0m\u001b[0m\n\u001b[0;32m----> 3\u001b[0;31m         \u001b[0mself\u001b[0m\u001b[0;34m.\u001b[0m\u001b[0mfirst_name\u001b[0m \u001b[0;34m=\u001b[0m \u001b[0mfirst_name\u001b[0m\u001b[0;34m\u001b[0m\u001b[0m\n\u001b[0m\u001b[1;32m      4\u001b[0m     \u001b[0;31m# Getter function\u001b[0m\u001b[0;34m\u001b[0m\u001b[0;34m\u001b[0m\u001b[0m\n\u001b[1;32m      5\u001b[0m     \u001b[0;34m@\u001b[0m\u001b[0mproperty\u001b[0m\u001b[0;34m\u001b[0m\u001b[0m\n",
      "\u001b[0;32m<ipython-input-9-93312628555c>\u001b[0m in \u001b[0;36mfirst_name\u001b[0;34m(self, value)\u001b[0m\n\u001b[1;32m     10\u001b[0m     \u001b[0;32mdef\u001b[0m \u001b[0mfirst_name\u001b[0m\u001b[0;34m(\u001b[0m\u001b[0mself\u001b[0m\u001b[0;34m,\u001b[0m \u001b[0mvalue\u001b[0m\u001b[0;34m)\u001b[0m\u001b[0;34m:\u001b[0m\u001b[0;34m\u001b[0m\u001b[0m\n\u001b[1;32m     11\u001b[0m         \u001b[0;32mif\u001b[0m \u001b[0;32mnot\u001b[0m \u001b[0misinstance\u001b[0m\u001b[0;34m(\u001b[0m\u001b[0mvalue\u001b[0m\u001b[0;34m,\u001b[0m \u001b[0mstr\u001b[0m\u001b[0;34m)\u001b[0m\u001b[0;34m:\u001b[0m\u001b[0;34m\u001b[0m\u001b[0m\n\u001b[0;32m---> 12\u001b[0;31m             \u001b[0;32mraise\u001b[0m \u001b[0mTypeError\u001b[0m\u001b[0;34m(\u001b[0m\u001b[0;34m'Expected a string'\u001b[0m\u001b[0;34m)\u001b[0m\u001b[0;34m\u001b[0m\u001b[0m\n\u001b[0m\u001b[1;32m     13\u001b[0m         \u001b[0mself\u001b[0m\u001b[0;34m.\u001b[0m\u001b[0m_first_name\u001b[0m \u001b[0;34m=\u001b[0m \u001b[0mvalue\u001b[0m\u001b[0;34m\u001b[0m\u001b[0m\n\u001b[1;32m     14\u001b[0m     \u001b[0;31m# Deleter function (optional)\u001b[0m\u001b[0;34m\u001b[0m\u001b[0;34m\u001b[0m\u001b[0m\n",
      "\u001b[0;31mTypeError\u001b[0m: Expected a string"
     ]
    }
   ],
   "source": [
    "a = Person(67)\n",
    "a.first_name"
   ]
  },
  {
   "cell_type": "code",
   "execution_count": 11,
   "metadata": {},
   "outputs": [
    {
     "ename": "AttributeError",
     "evalue": "Can't delete attribute",
     "output_type": "error",
     "traceback": [
      "\u001b[0;31m---------------------------------------------------------------------------\u001b[0m",
      "\u001b[0;31mAttributeError\u001b[0m                            Traceback (most recent call last)",
      "\u001b[0;32m<ipython-input-11-50ce9077a584>\u001b[0m in \u001b[0;36m<module>\u001b[0;34m\u001b[0m\n\u001b[0;32m----> 1\u001b[0;31m \u001b[0;32mdel\u001b[0m \u001b[0ma\u001b[0m\u001b[0;34m.\u001b[0m\u001b[0mfirst_name\u001b[0m\u001b[0;34m\u001b[0m\u001b[0m\n\u001b[0m",
      "\u001b[0;32m<ipython-input-9-93312628555c>\u001b[0m in \u001b[0;36mfirst_name\u001b[0;34m(self)\u001b[0m\n\u001b[1;32m     15\u001b[0m     \u001b[0;34m@\u001b[0m\u001b[0mfirst_name\u001b[0m\u001b[0;34m.\u001b[0m\u001b[0mdeleter\u001b[0m\u001b[0;34m\u001b[0m\u001b[0m\n\u001b[1;32m     16\u001b[0m     \u001b[0;32mdef\u001b[0m \u001b[0mfirst_name\u001b[0m\u001b[0;34m(\u001b[0m\u001b[0mself\u001b[0m\u001b[0;34m)\u001b[0m\u001b[0;34m:\u001b[0m\u001b[0;34m\u001b[0m\u001b[0m\n\u001b[0;32m---> 17\u001b[0;31m         \u001b[0;32mraise\u001b[0m \u001b[0mAttributeError\u001b[0m\u001b[0;34m(\u001b[0m\u001b[0;34m\"Can't delete attribute\"\u001b[0m\u001b[0;34m)\u001b[0m\u001b[0;34m\u001b[0m\u001b[0m\n\u001b[0m\u001b[1;32m     18\u001b[0m \u001b[0;34m\u001b[0m\u001b[0m\n\u001b[1;32m     19\u001b[0m \u001b[0ma\u001b[0m \u001b[0;34m=\u001b[0m \u001b[0mPerson\u001b[0m\u001b[0;34m(\u001b[0m\u001b[0;34m'Saswati'\u001b[0m\u001b[0;34m)\u001b[0m\u001b[0;34m\u001b[0m\u001b[0m\n",
      "\u001b[0;31mAttributeError\u001b[0m: Can't delete attribute"
     ]
    }
   ],
   "source": [
    "del a.first_name"
   ]
  },
  {
   "cell_type": "markdown",
   "metadata": {},
   "source": [
    "Automatrically fget, fset and fdel gets called when accessing property attributes"
   ]
  },
  {
   "cell_type": "code",
   "execution_count": 13,
   "metadata": {},
   "outputs": [
    {
     "name": "stdout",
     "output_type": "stream",
     "text": [
      "<function Person.first_name at 0x7f61740960d0>\n",
      "<function Person.first_name at 0x7f6174096598>\n",
      "<function Person.first_name at 0x7f6174096510>\n"
     ]
    }
   ],
   "source": [
    "print(Person.first_name.fget)\n",
    "print(Person.first_name.fset)\n",
    "print(Person.first_name.fdel)"
   ]
  },
  {
   "cell_type": "markdown",
   "metadata": {},
   "source": [
    "Can define property for existing getter setter and deleter functions also"
   ]
  },
  {
   "cell_type": "code",
   "execution_count": 6,
   "metadata": {},
   "outputs": [
    {
     "ename": "TypeError",
     "evalue": "Expected a string",
     "output_type": "error",
     "traceback": [
      "\u001b[0;31m---------------------------------------------------------------------------\u001b[0m",
      "\u001b[0;31mTypeError\u001b[0m                                 Traceback (most recent call last)",
      "\u001b[0;32m<ipython-input-6-28aa8c19af31>\u001b[0m in \u001b[0;36m<module>\u001b[0;34m\u001b[0m\n\u001b[1;32m     12\u001b[0m \u001b[0;34m\u001b[0m\u001b[0m\n\u001b[1;32m     13\u001b[0m     \u001b[0mname\u001b[0m \u001b[0;34m=\u001b[0m \u001b[0mproperty\u001b[0m\u001b[0;34m(\u001b[0m\u001b[0mget_name\u001b[0m\u001b[0;34m,\u001b[0m \u001b[0mset_name\u001b[0m\u001b[0;34m,\u001b[0m \u001b[0mdel_name\u001b[0m\u001b[0;34m)\u001b[0m\u001b[0;34m\u001b[0m\u001b[0m\n\u001b[0;32m---> 14\u001b[0;31m \u001b[0ma\u001b[0m \u001b[0;34m=\u001b[0m \u001b[0mPerson\u001b[0m\u001b[0;34m(\u001b[0m\u001b[0;36m24\u001b[0m\u001b[0;34m)\u001b[0m\u001b[0;34m\u001b[0m\u001b[0m\n\u001b[0m",
      "\u001b[0;32m<ipython-input-6-28aa8c19af31>\u001b[0m in \u001b[0;36m__init__\u001b[0;34m(self, name)\u001b[0m\n\u001b[1;32m      1\u001b[0m \u001b[0;32mclass\u001b[0m \u001b[0mPerson\u001b[0m\u001b[0;34m:\u001b[0m\u001b[0;34m\u001b[0m\u001b[0m\n\u001b[1;32m      2\u001b[0m     \u001b[0;32mdef\u001b[0m \u001b[0m__init__\u001b[0m\u001b[0;34m(\u001b[0m\u001b[0mself\u001b[0m\u001b[0;34m,\u001b[0m \u001b[0mname\u001b[0m\u001b[0;34m)\u001b[0m\u001b[0;34m:\u001b[0m\u001b[0;34m\u001b[0m\u001b[0m\n\u001b[0;32m----> 3\u001b[0;31m         \u001b[0mself\u001b[0m\u001b[0;34m.\u001b[0m\u001b[0mname\u001b[0m \u001b[0;34m=\u001b[0m \u001b[0mname\u001b[0m\u001b[0;34m\u001b[0m\u001b[0m\n\u001b[0m\u001b[1;32m      4\u001b[0m     \u001b[0;32mdef\u001b[0m \u001b[0mget_name\u001b[0m\u001b[0;34m(\u001b[0m\u001b[0mself\u001b[0m\u001b[0;34m)\u001b[0m\u001b[0;34m:\u001b[0m\u001b[0;34m\u001b[0m\u001b[0m\n\u001b[1;32m      5\u001b[0m         \u001b[0;32mreturn\u001b[0m \u001b[0mname\u001b[0m\u001b[0;34m\u001b[0m\u001b[0m\n",
      "\u001b[0;32m<ipython-input-6-28aa8c19af31>\u001b[0m in \u001b[0;36mset_name\u001b[0;34m(self, value)\u001b[0m\n\u001b[1;32m      6\u001b[0m     \u001b[0;32mdef\u001b[0m \u001b[0mset_name\u001b[0m\u001b[0;34m(\u001b[0m\u001b[0mself\u001b[0m\u001b[0;34m,\u001b[0m \u001b[0mvalue\u001b[0m\u001b[0;34m)\u001b[0m\u001b[0;34m:\u001b[0m\u001b[0;34m\u001b[0m\u001b[0m\n\u001b[1;32m      7\u001b[0m         \u001b[0;32mif\u001b[0m \u001b[0;32mnot\u001b[0m \u001b[0misinstance\u001b[0m\u001b[0;34m(\u001b[0m\u001b[0mvalue\u001b[0m\u001b[0;34m,\u001b[0m \u001b[0mstr\u001b[0m\u001b[0;34m)\u001b[0m\u001b[0;34m:\u001b[0m\u001b[0;34m\u001b[0m\u001b[0m\n\u001b[0;32m----> 8\u001b[0;31m             \u001b[0;32mraise\u001b[0m \u001b[0mTypeError\u001b[0m\u001b[0;34m(\u001b[0m\u001b[0;34m\"Expected a string\"\u001b[0m\u001b[0;34m)\u001b[0m\u001b[0;34m\u001b[0m\u001b[0m\n\u001b[0m\u001b[1;32m      9\u001b[0m         \u001b[0mself\u001b[0m\u001b[0;34m.\u001b[0m\u001b[0mname\u001b[0m \u001b[0;34m=\u001b[0m \u001b[0mvalue\u001b[0m\u001b[0;34m\u001b[0m\u001b[0m\n\u001b[1;32m     10\u001b[0m     \u001b[0;32mdef\u001b[0m \u001b[0mdel_name\u001b[0m\u001b[0;34m(\u001b[0m\u001b[0mself\u001b[0m\u001b[0;34m)\u001b[0m\u001b[0;34m:\u001b[0m\u001b[0;34m\u001b[0m\u001b[0m\n",
      "\u001b[0;31mTypeError\u001b[0m: Expected a string"
     ]
    }
   ],
   "source": [
    "class Person:\n",
    "    def __init__(self, name):\n",
    "        self.name = name\n",
    "    def get_name(self):\n",
    "        return name\n",
    "    def set_name(self, value):\n",
    "        if not isinstance(value, str):\n",
    "            raise TypeError(\"Expected a string\")\n",
    "        self.name = value\n",
    "    def del_name(self):\n",
    "        raise AttributeError(\"Deletion not allowed\")\n",
    "        \n",
    "    name = property(get_name, set_name, del_name)\n",
    "a = Person(24)"
   ]
  },
  {
   "cell_type": "markdown",
   "metadata": {},
   "source": [
    "# Creating a New Kind of Class or Instance Attribute using Descriptor class"
   ]
  },
  {
   "cell_type": "code",
   "execution_count": 24,
   "metadata": {},
   "outputs": [
    {
     "name": "stdout",
     "output_type": "stream",
     "text": [
      "2\n"
     ]
    },
    {
     "ename": "TypeError",
     "evalue": "Expected an int",
     "output_type": "error",
     "traceback": [
      "\u001b[0;31m---------------------------------------------------------------------------\u001b[0m",
      "\u001b[0;31mTypeError\u001b[0m                                 Traceback (most recent call last)",
      "\u001b[0;32m<ipython-input-24-88d4f9154441>\u001b[0m in \u001b[0;36m<module>\u001b[0;34m\u001b[0m\n\u001b[1;32m     27\u001b[0m \u001b[0mp\u001b[0m\u001b[0;34m.\u001b[0m\u001b[0my\u001b[0m \u001b[0;34m=\u001b[0m \u001b[0;36m5\u001b[0m\u001b[0;34m\u001b[0m\u001b[0m\n\u001b[1;32m     28\u001b[0m \u001b[0;31m# Calls Point.y.__set__(p, 5)\u001b[0m\u001b[0;34m\u001b[0m\u001b[0;34m\u001b[0m\u001b[0m\n\u001b[0;32m---> 29\u001b[0;31m \u001b[0mp\u001b[0m\u001b[0;34m.\u001b[0m\u001b[0mx\u001b[0m \u001b[0;34m=\u001b[0m \u001b[0;36m2.3\u001b[0m\u001b[0;34m\u001b[0m\u001b[0m\n\u001b[0m",
      "\u001b[0;32m<ipython-input-24-88d4f9154441>\u001b[0m in \u001b[0;36m__set__\u001b[0;34m(self, instance, value)\u001b[0m\n\u001b[1;32m      9\u001b[0m     \u001b[0;32mdef\u001b[0m \u001b[0m__set__\u001b[0m\u001b[0;34m(\u001b[0m\u001b[0mself\u001b[0m\u001b[0;34m,\u001b[0m \u001b[0minstance\u001b[0m\u001b[0;34m,\u001b[0m \u001b[0mvalue\u001b[0m\u001b[0;34m)\u001b[0m\u001b[0;34m:\u001b[0m\u001b[0;34m\u001b[0m\u001b[0m\n\u001b[1;32m     10\u001b[0m         \u001b[0;32mif\u001b[0m \u001b[0;32mnot\u001b[0m \u001b[0misinstance\u001b[0m\u001b[0;34m(\u001b[0m\u001b[0mvalue\u001b[0m\u001b[0;34m,\u001b[0m \u001b[0mint\u001b[0m\u001b[0;34m)\u001b[0m\u001b[0;34m:\u001b[0m\u001b[0;34m\u001b[0m\u001b[0m\n\u001b[0;32m---> 11\u001b[0;31m             \u001b[0;32mraise\u001b[0m \u001b[0mTypeError\u001b[0m\u001b[0;34m(\u001b[0m\u001b[0;34m'Expected an int'\u001b[0m\u001b[0;34m)\u001b[0m\u001b[0;34m\u001b[0m\u001b[0m\n\u001b[0m\u001b[1;32m     12\u001b[0m         \u001b[0minstance\u001b[0m\u001b[0;34m.\u001b[0m\u001b[0m__dict__\u001b[0m\u001b[0;34m[\u001b[0m\u001b[0mself\u001b[0m\u001b[0;34m.\u001b[0m\u001b[0mname\u001b[0m\u001b[0;34m]\u001b[0m \u001b[0;34m=\u001b[0m \u001b[0mvalue\u001b[0m\u001b[0;34m\u001b[0m\u001b[0m\n\u001b[1;32m     13\u001b[0m     \u001b[0;32mdef\u001b[0m \u001b[0m__delete__\u001b[0m\u001b[0;34m(\u001b[0m\u001b[0mself\u001b[0m\u001b[0;34m,\u001b[0m \u001b[0minstance\u001b[0m\u001b[0;34m)\u001b[0m\u001b[0;34m:\u001b[0m\u001b[0;34m\u001b[0m\u001b[0m\n",
      "\u001b[0;31mTypeError\u001b[0m: Expected an int"
     ]
    }
   ],
   "source": [
    "class Integer:\n",
    "    def __init__(self, name):\n",
    "        self.name = name\n",
    "    def __get__(self, instance, cls):\n",
    "        if instance is None:\n",
    "            return self\n",
    "        else:\n",
    "            return instance.__dict__[self.name]\n",
    "    def __set__(self, instance, value):\n",
    "        if not isinstance(value, int):\n",
    "            raise TypeError('Expected an int')\n",
    "        instance.__dict__[self.name] = value\n",
    "    def __delete__(self, instance):\n",
    "        del instance.__dict__[self.name]\n",
    "\n",
    "class Point:\n",
    "    x = Integer('x')\n",
    "    y = Integer('y')\n",
    "    def __init__(self, x, y):\n",
    "        self.x = x\n",
    "        self.y = y\n",
    "        \n",
    "p = Point(2, 3)\n",
    "print(p.x)\n",
    "# Calls Point.x.__get__(p,Point)\n",
    "2\n",
    "p.y = 5\n",
    "# Calls Point.y.__set__(p, 5)\n",
    "p.x = 2.3"
   ]
  },
  {
   "cell_type": "markdown",
   "metadata": {},
   "source": [
    "If accessed via object value returned else descriptor instance"
   ]
  },
  {
   "cell_type": "code",
   "execution_count": 26,
   "metadata": {},
   "outputs": [
    {
     "name": "stdout",
     "output_type": "stream",
     "text": [
      "2\n",
      "<__main__.Integer object at 0x7f617402d748>\n"
     ]
    }
   ],
   "source": [
    "p = Point(2,3)\n",
    "print(p.x)\n",
    "# Calls Point.x.__get__(p, Point)\n",
    "\n",
    "print(Point.x)"
   ]
  },
  {
   "cell_type": "markdown",
   "metadata": {},
   "source": [
    "# Using Lazily computed properties via descriptors"
   ]
  },
  {
   "cell_type": "code",
   "execution_count": 37,
   "metadata": {},
   "outputs": [
    {
     "name": "stdout",
     "output_type": "stream",
     "text": [
      "Computing area\n",
      "50.26548245743669\n",
      "50.26548245743669\n",
      "{'radius': 4, 'area': 50.26548245743669}\n",
      "10\n"
     ]
    }
   ],
   "source": [
    "class lazyproperty:\n",
    "    def __init__(self, func):\n",
    "        self.func = func\n",
    "    def __get__(self, instance, cls):\n",
    "        if instance == None:\n",
    "            return instance\n",
    "        else:\n",
    "            value = self.func(instance)\n",
    "            # setting the value in the dictionary by name func.__name__\n",
    "            # next time __get__ wont be executed and directly value will be returned from dictionary\n",
    "            setattr(instance, self.func.__name__, value)\n",
    "            return value\n",
    "\n",
    "import math\n",
    "class Circle:\n",
    "    def __init__(self, radius):\n",
    "        self.radius = radius\n",
    "        \n",
    "    @lazyproperty\n",
    "    def area(self):\n",
    "        print(\"Computing area\")\n",
    "        return self.radius * self.radius * math.pi\n",
    "    \n",
    "c = Circle(4)\n",
    "print(c.area)\n",
    "# Notice it is not cal_area() coz we are using property\n",
    "print(c.area)\n",
    "# Notice that printing Computing area is not executed second time\n",
    "print(vars(c))\n",
    "# Notive area is now stored as variables in c\n",
    "\n",
    "# Also area being an instance variable becomes mutable\n",
    "c.area = 10\n",
    "print(c.area)\n",
    "# To stop this from happening we implement get in such a way it can be used for getting value(getter) and\n",
    "# skip the __set__ implementation altogether"
   ]
  },
  {
   "cell_type": "markdown",
   "metadata": {},
   "source": [
    "To stop this from happening we implement get in such a way it can be used for getting value(getter) and\n",
    "skip the __set__ implementation altogether"
   ]
  },
  {
   "cell_type": "code",
   "execution_count": 38,
   "metadata": {},
   "outputs": [
    {
     "name": "stdout",
     "output_type": "stream",
     "text": [
      "Computing area\n",
      "50.26548245743669\n",
      "50.26548245743669\n",
      "{'radius': 4, '_lazy_area': 50.26548245743669}\n"
     ]
    },
    {
     "ename": "AttributeError",
     "evalue": "can't set attribute",
     "output_type": "error",
     "traceback": [
      "\u001b[0;31m---------------------------------------------------------------------------\u001b[0m",
      "\u001b[0;31mAttributeError\u001b[0m                            Traceback (most recent call last)",
      "\u001b[0;32m<ipython-input-38-edb5571245f5>\u001b[0m in \u001b[0;36m<module>\u001b[0;34m\u001b[0m\n\u001b[1;32m     29\u001b[0m \u001b[0;34m\u001b[0m\u001b[0m\n\u001b[1;32m     30\u001b[0m \u001b[0;31m# Also area being an instance variable becomes mutable\u001b[0m\u001b[0;34m\u001b[0m\u001b[0;34m\u001b[0m\u001b[0m\n\u001b[0;32m---> 31\u001b[0;31m \u001b[0mc\u001b[0m\u001b[0;34m.\u001b[0m\u001b[0marea\u001b[0m \u001b[0;34m=\u001b[0m \u001b[0;36m10\u001b[0m\u001b[0;34m\u001b[0m\u001b[0m\n\u001b[0m\u001b[1;32m     32\u001b[0m \u001b[0mprint\u001b[0m\u001b[0;34m(\u001b[0m\u001b[0mc\u001b[0m\u001b[0;34m.\u001b[0m\u001b[0marea\u001b[0m\u001b[0;34m)\u001b[0m\u001b[0;34m\u001b[0m\u001b[0m\n",
      "\u001b[0;31mAttributeError\u001b[0m: can't set attribute"
     ]
    }
   ],
   "source": [
    "def lazyproperty(func):\n",
    "    name = '_lazy_' + func.__name__\n",
    "    @property\n",
    "    def lazy(self):\n",
    "        if hasattr(self, name):\n",
    "            return getattr(self, name)\n",
    "        else:\n",
    "            value = func(self)\n",
    "            setattr(self, name, value)\n",
    "            return value\n",
    "    return lazy\n",
    "\n",
    "class Circle:\n",
    "    def __init__(self, radius):\n",
    "        self.radius = radius\n",
    "        \n",
    "    @lazyproperty\n",
    "    def area(self):\n",
    "        print(\"Computing area\")\n",
    "        return self.radius * self.radius * math.pi\n",
    "    \n",
    "c = Circle(4)\n",
    "print(c.area)\n",
    "# Notice it is not cal_area() coz we are using property\n",
    "print(c.area)\n",
    "# Notice that printing Computing area is not executed second time\n",
    "print(vars(c))\n",
    "# Notive area is now stored as variables in c\n",
    "\n",
    "# Also area being an instance variable becomes mutable\n",
    "c.area = 10\n",
    "print(c.area)"
   ]
  },
  {
   "cell_type": "code",
   "execution_count": 49,
   "metadata": {},
   "outputs": [],
   "source": [
    "class Structures:\n",
    "    _fields = []\n",
    "    # Dont forget to use * before args to make the arguments a list\n",
    "#     The special syntax *args in function definitions in python is used to pass a variable number of arguments to a function. It is used to pass a non-keyworded, variable-length argument list.\n",
    "    def __init__(self, *args):\n",
    "#         print(len(self._fields))\n",
    "#         print(len(args))\n",
    "        if len(self._fields) != len(args):\n",
    "            raise TypeError(\"Arguments dont match with fields\")\n",
    "        for name, value in zip(self._fields, args):\n",
    "            setattr(self, name, value)\n",
    "            \n",
    "class Point(Structures):\n",
    "    _fields = ['x', 'y']\n",
    "\n",
    "class Circle(Structures):\n",
    "    _fields = ['radius']\n",
    "    \n",
    "p = Point(2, 3.5)\n",
    "c = Circle(4)"
   ]
  },
  {
   "cell_type": "code",
   "execution_count": 51,
   "metadata": {},
   "outputs": [
    {
     "ename": "TypeError",
     "evalue": "Arguments dont match with fields",
     "output_type": "error",
     "traceback": [
      "\u001b[0;31m---------------------------------------------------------------------------\u001b[0m",
      "\u001b[0;31mTypeError\u001b[0m                                 Traceback (most recent call last)",
      "\u001b[0;32m<ipython-input-51-0108b494990c>\u001b[0m in \u001b[0;36m<module>\u001b[0;34m\u001b[0m\n\u001b[0;32m----> 1\u001b[0;31m \u001b[0mp\u001b[0m \u001b[0;34m=\u001b[0m \u001b[0mPoint\u001b[0m\u001b[0;34m(\u001b[0m\u001b[0;36m2\u001b[0m\u001b[0;34m)\u001b[0m\u001b[0;34m\u001b[0m\u001b[0m\n\u001b[0m\u001b[1;32m      2\u001b[0m \u001b[0;31m# if we want to keep keywords in fields then __init__ method can be modified set till args then extra values can also be set\u001b[0m\u001b[0;34m\u001b[0m\u001b[0;34m\u001b[0m\u001b[0m\n",
      "\u001b[0;32m<ipython-input-49-fd009a1d1c3c>\u001b[0m in \u001b[0;36m__init__\u001b[0;34m(self, *args)\u001b[0m\n\u001b[1;32m      6\u001b[0m \u001b[0;31m#         print(len(args))\u001b[0m\u001b[0;34m\u001b[0m\u001b[0;34m\u001b[0m\u001b[0m\n\u001b[1;32m      7\u001b[0m         \u001b[0;32mif\u001b[0m \u001b[0mlen\u001b[0m\u001b[0;34m(\u001b[0m\u001b[0mself\u001b[0m\u001b[0;34m.\u001b[0m\u001b[0m_fields\u001b[0m\u001b[0;34m)\u001b[0m \u001b[0;34m!=\u001b[0m \u001b[0mlen\u001b[0m\u001b[0;34m(\u001b[0m\u001b[0margs\u001b[0m\u001b[0;34m)\u001b[0m\u001b[0;34m:\u001b[0m\u001b[0;34m\u001b[0m\u001b[0m\n\u001b[0;32m----> 8\u001b[0;31m             \u001b[0;32mraise\u001b[0m \u001b[0mTypeError\u001b[0m\u001b[0;34m(\u001b[0m\u001b[0;34m\"Arguments dont match with fields\"\u001b[0m\u001b[0;34m)\u001b[0m\u001b[0;34m\u001b[0m\u001b[0m\n\u001b[0m\u001b[1;32m      9\u001b[0m         \u001b[0;32mfor\u001b[0m \u001b[0mname\u001b[0m\u001b[0;34m,\u001b[0m \u001b[0mvalue\u001b[0m \u001b[0;32min\u001b[0m \u001b[0mzip\u001b[0m\u001b[0;34m(\u001b[0m\u001b[0mself\u001b[0m\u001b[0;34m.\u001b[0m\u001b[0m_fields\u001b[0m\u001b[0;34m,\u001b[0m \u001b[0margs\u001b[0m\u001b[0;34m)\u001b[0m\u001b[0;34m:\u001b[0m\u001b[0;34m\u001b[0m\u001b[0m\n\u001b[1;32m     10\u001b[0m             \u001b[0msetattr\u001b[0m\u001b[0;34m(\u001b[0m\u001b[0mself\u001b[0m\u001b[0;34m,\u001b[0m \u001b[0mname\u001b[0m\u001b[0;34m,\u001b[0m \u001b[0mvalue\u001b[0m\u001b[0;34m)\u001b[0m\u001b[0;34m\u001b[0m\u001b[0m\n",
      "\u001b[0;31mTypeError\u001b[0m: Arguments dont match with fields"
     ]
    }
   ],
   "source": [
    "p = Point(2)\n",
    "# if we want to keep keywords in fields then __init__ method can be modified set till args then extra values can also be set"
   ]
  },
  {
   "cell_type": "code",
   "execution_count": 55,
   "metadata": {},
   "outputs": [],
   "source": [
    "#The special syntax **kwargs in function definitions in python is used to pass a keyworded, variable-length argument list. We use the name kwargs with the double star. The reason is because the double star allows us to pass through keyword arguments (and any number of them).\n",
    "\n",
    "# A keyword argument is where you provide a name to the variable as you pass it into the function.\n",
    "# One can think of the kwargs as being a dictionary that maps each keyword to the value that we pass alongside it. That is why when we iterate over the kwargs there doesn’t seem to be any order in which they were printed out.\n",
    "\n",
    "class Structure:\n",
    "    _fields= []\n",
    "    def __init__(self, *args, **kwargs):\n",
    "        if len(args) > len(self._fields):\n",
    "            raise TypeError('Expected {} arguments'.format(len(self._fields)))\n",
    "        # Set all of the positional arguments\n",
    "        for name, value in zip(self._fields, args):\n",
    "            setattr(self, name, value)\n",
    "        # Set the remaining keyword arguments\n",
    "        for name in self._fields[len(args):]:\n",
    "            setattr(self, name, kwargs.pop(name))\n",
    "        # Check for any remaining unknown arguments\n",
    "        if kwargs:\n",
    "            raise TypeError('Invalid argument(s): {}'.format(','.join(kwargs)))\n",
    "    # Example use\n",
    "    \n",
    "class Stock(Structure):\n",
    "    _fields = ['name', 'shares', 'price']\n",
    "s1 = Stock('ACME', 50, 91.1)\n",
    "s2 = Stock('ACME', shares = 50, price = 91.1)"
   ]
  },
  {
   "cell_type": "code",
   "execution_count": 59,
   "metadata": {},
   "outputs": [
    {
     "data": {
      "text/plain": [
       "{'date': '8/2/2012', 'name': 'ACME', 'price': 91.1, 'shares': 50}"
      ]
     },
     "execution_count": 59,
     "metadata": {},
     "output_type": "execute_result"
    }
   ],
   "source": [
    "# kwargs can also be used for sending additional arguments not defined in _fields\n",
    "class Structure:\n",
    "# Class variable that specifies expected fields\n",
    "    _fields= []\n",
    "    def __init__(self, *args, **kwargs):\n",
    "        if len(args) != len(self._fields):\n",
    "            raise TypeError('Expected {} arguments'.format(len(self._fields)))\n",
    "        # Set the arguments\n",
    "        for name, value in zip(self._fields, args):\n",
    "            setattr(self, name, value)\n",
    "        # Set the additional arguments (if any)\n",
    "        extra_args = kwargs.keys() - self._fields\n",
    "        for name in extra_args:\n",
    "            setattr(self, name, kwargs.pop(name))\n",
    "        if kwargs:\n",
    "            raise TypeError('Duplicate values for {}'.format(','.join(kwargs)))\n",
    "    \n",
    "# Example use\n",
    "class Stock(Structure):\n",
    "    _fields = ['name', 'shares', 'price']\n",
    "s1 = Stock('ACME', 50, 91.1)\n",
    "s2 = Stock('ACME', 50, 91.1, date='8/2/2012')\n",
    "vars(s2)"
   ]
  },
  {
   "cell_type": "code",
   "execution_count": null,
   "metadata": {},
   "outputs": [],
   "source": []
  }
 ],
 "metadata": {
  "kernelspec": {
   "display_name": "Python 3",
   "language": "python",
   "name": "python3"
  },
  "language_info": {
   "codemirror_mode": {
    "name": "ipython",
    "version": 3
   },
   "file_extension": ".py",
   "mimetype": "text/x-python",
   "name": "python",
   "nbconvert_exporter": "python",
   "pygments_lexer": "ipython3",
   "version": "3.6.9"
  }
 },
 "nbformat": 4,
 "nbformat_minor": 2
}
